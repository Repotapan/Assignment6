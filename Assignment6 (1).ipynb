{
 "cells": [
  {
   "cell_type": "markdown",
   "id": "21006050-b33f-42f6-9f02-ace4c01014ef",
   "metadata": {},
   "source": [
    "1) Explain class and object with respect to object_oriented programming .Give a suitable Example? "
   ]
  },
  {
   "cell_type": "raw",
   "id": "4f3fe50c-5f90-4052-a03b-dfb6a8c78eb3",
   "metadata": {},
   "source": [
    "In Python Everything is an object.\n",
    "To create objects we required some model or plan or Blueprint,which is nothing but a class.\n",
    "class contain both variables and methods."
   ]
  },
  {
   "cell_type": "raw",
   "id": "486a7ad7-68fe-4467-95dd-9863453d1ad2",
   "metadata": {},
   "source": [
    "For example:"
   ]
  },
  {
   "cell_type": "code",
   "execution_count": 6,
   "id": "37412b25-e29c-4087-a63b-6fd7f775b58b",
   "metadata": {},
   "outputs": [],
   "source": [
    "class student:\n",
    "    '''Developed by Tapan'''\n",
    "    def __init__(self,name,age,marks):\n",
    "        self.name=name\n",
    "        self.age=age\n",
    "        self.marks=marks\n",
    "    def f1(self):\n",
    "        print(\"Hello I am :\",self.name)\n",
    "        print(\"My age is :\",self.age)\n",
    "        print(\"My Marks is :\",self.marks)"
   ]
  },
  {
   "cell_type": "code",
   "execution_count": 7,
   "id": "548efa84-aa28-45d6-a099-06221048747f",
   "metadata": {},
   "outputs": [],
   "source": [
    "t=student(\"Tapan\",23,75)"
   ]
  },
  {
   "cell_type": "code",
   "execution_count": 9,
   "id": "06921a9f-85bf-4f76-9d6f-554f66383333",
   "metadata": {},
   "outputs": [
    {
     "name": "stdout",
     "output_type": "stream",
     "text": [
      "Hello I am : Tapan\n",
      "My age is : 23\n",
      "My Marks is : 75\n"
     ]
    }
   ],
   "source": [
    "t.f1()"
   ]
  },
  {
   "cell_type": "raw",
   "id": "36d7c524-df26-448d-ab58-44d9722b1597",
   "metadata": {},
   "source": [
    "Physical existence of a class is nothing but an object.\n",
    "we can create any number of objects for a class.\n",
    "Example:\n",
    "t=student()"
   ]
  },
  {
   "cell_type": "markdown",
   "id": "1f259f10-9d79-4950-a959-c13d3c851a30",
   "metadata": {},
   "source": [
    "2) Name of the four pillar of the oops?"
   ]
  },
  {
   "cell_type": "raw",
   "id": "141fcea8-9918-44b6-bc38-93026eb5b970",
   "metadata": {},
   "source": [
    "The four pillar of oops is 1.Polymorphism\n",
    "                            2.Encapsulation\n",
    "                             3.Inheritance\n",
    "                              4.Abstraction"
   ]
  },
  {
   "cell_type": "markdown",
   "id": "00b0151a-595a-47f5-9a97-fa0c503aaf20",
   "metadata": {},
   "source": [
    "3) Expalin why the __init__() function is used .Give a suitable example?"
   ]
  },
  {
   "cell_type": "raw",
   "id": "a51934f0-f3b7-4622-8aef-e778fb33c075",
   "metadata": {},
   "source": [
    "The special method __init__() is called constructor.\n",
    "constructor will be executed automatically at the time of the creation.\n",
    "The main purpose of the __init__() is to declare and initialize the instance variable."
   ]
  },
  {
   "cell_type": "raw",
   "id": "25dd749f-f90f-4ac3-907d-0318c042f39e",
   "metadata": {},
   "source": [
    "Example:"
   ]
  },
  {
   "cell_type": "code",
   "execution_count": 13,
   "id": "4f3dc1bb-696c-4aa5-8966-8b4a19815ffb",
   "metadata": {},
   "outputs": [],
   "source": [
    "class test:\n",
    "    def __init_(self):\n",
    "        print(\"constructor execution\")\n",
    "    def m1(self):\n",
    "        print(\"method execution\")\n",
    "t1=test()\n",
    "t2=test()\n",
    "t3=test()\n"
   ]
  },
  {
   "cell_type": "code",
   "execution_count": 17,
   "id": "16b00e76-8a65-4bb6-b362-6ba45f3a6558",
   "metadata": {},
   "outputs": [
    {
     "name": "stdout",
     "output_type": "stream",
     "text": [
      "method execution\n"
     ]
    }
   ],
   "source": [
    "t1.m1()"
   ]
  },
  {
   "cell_type": "markdown",
   "id": "bee29926-2a82-4ca0-91ff-6bef9f37587a",
   "metadata": {},
   "source": [
    "4)why self is used in oops?"
   ]
  },
  {
   "cell_type": "raw",
   "id": "3265940f-2847-473e-9fa9-ab3f0ea07661",
   "metadata": {},
   "source": [
    "self is the default variable which is always pointing to the current object.\n",
    "By using self we can access instance variables and instance methods of an object.It binds the attributes with the given arguments."
   ]
  },
  {
   "cell_type": "markdown",
   "id": "91afc19c-eaf3-4564-a0fb-2ef2d88508bd",
   "metadata": {},
   "source": [
    "5)what is inheritance ? Give an example of each type of inheritance?"
   ]
  },
  {
   "cell_type": "raw",
   "id": "0ae55ffb-b8cb-435f-bf50-1fa9e9f890f8",
   "metadata": {},
   "source": [
    "Inheritance is a way of creating a new class from an existing class.\n",
    "There are three types of inheritance are there,these are:\n",
    "                                                        1.Single Inheritance\n",
    "                                                         2. Multilevel Inheritance\n",
    "                                                          3. Multiple Inheritance"
   ]
  },
  {
   "cell_type": "raw",
   "id": "f49f9f1a-793f-4e1e-8bc8-dc8f87332c89",
   "metadata": {},
   "source": [
    "1.Single Inheritance occures when child class inherits only a single parent class.\n",
    "Example:"
   ]
  },
  {
   "cell_type": "code",
   "execution_count": 18,
   "id": "17e674af-5910-406a-96a9-286ec56d5422",
   "metadata": {},
   "outputs": [],
   "source": [
    "class text1:\n",
    "    def text_math(self):\n",
    "        print(\"This is called inheritance\")"
   ]
  },
  {
   "cell_type": "code",
   "execution_count": 19,
   "id": "5c80cfb3-b931-44b9-a4f3-768f302ce37e",
   "metadata": {},
   "outputs": [],
   "source": [
    "class child_text1(text1):\n",
    "    pass"
   ]
  },
  {
   "cell_type": "code",
   "execution_count": 20,
   "id": "2d59eb2f-8ed4-42d2-975c-c52b180f51e0",
   "metadata": {},
   "outputs": [],
   "source": [
    "obj_child_text1=child_text1()"
   ]
  },
  {
   "cell_type": "code",
   "execution_count": 21,
   "id": "f0cba5fd-c099-44a4-a078-718e643385f8",
   "metadata": {},
   "outputs": [
    {
     "name": "stdout",
     "output_type": "stream",
     "text": [
      "This is called inheritance\n"
     ]
    }
   ],
   "source": [
    "obj_child_text1.text_math()"
   ]
  },
  {
   "cell_type": "raw",
   "id": "72382db1-9e8f-4ef2-b9f5-bcd3d1e15a46",
   "metadata": {},
   "source": [
    "2.when a child class becomes a parent for another child class,then that inheritance is called multilevel inheritance.\n",
    "Example:"
   ]
  },
  {
   "cell_type": "code",
   "execution_count": 22,
   "id": "de3b9974-1ee7-4d39-9aee-4d744902d4e3",
   "metadata": {},
   "outputs": [],
   "source": [
    "class class1:\n",
    "    def text1_class1(self):\n",
    "        print(\"This is class1\")"
   ]
  },
  {
   "cell_type": "code",
   "execution_count": 23,
   "id": "037405c4-9f69-425a-ba94-47f01916ed26",
   "metadata": {},
   "outputs": [],
   "source": [
    "class class2(class1):\n",
    "    def text2_class2(self):\n",
    "        print(\"This is class2\")"
   ]
  },
  {
   "cell_type": "code",
   "execution_count": 24,
   "id": "cf4d0e42-8dae-4660-a4d1-d72f1bf18102",
   "metadata": {},
   "outputs": [],
   "source": [
    "class class3(class2):\n",
    "    def text3_class3(self):\n",
    "        pass"
   ]
  },
  {
   "cell_type": "code",
   "execution_count": 25,
   "id": "eb825040-4c5f-4fd4-95cf-bb13d74853e0",
   "metadata": {},
   "outputs": [],
   "source": [
    "obj_class3=class3()"
   ]
  },
  {
   "cell_type": "code",
   "execution_count": 26,
   "id": "b00a7659-6a04-46b7-a1db-6c8dccbfe489",
   "metadata": {},
   "outputs": [
    {
     "name": "stdout",
     "output_type": "stream",
     "text": [
      "This is class1\n"
     ]
    }
   ],
   "source": [
    "obj_class3.text1_class1()"
   ]
  },
  {
   "cell_type": "code",
   "execution_count": 27,
   "id": "6708a722-0f61-4b3d-823e-15f982d61ca2",
   "metadata": {},
   "outputs": [
    {
     "name": "stdout",
     "output_type": "stream",
     "text": [
      "This is class2\n"
     ]
    }
   ],
   "source": [
    "obj_class3.text2_class2()"
   ]
  },
  {
   "cell_type": "raw",
   "id": "f59da2f2-24bb-401b-8388-ecfa7c83ed3e",
   "metadata": {},
   "source": [
    "3.Multiple Inheritance occurs when the child class inherits from more than one parent class.\n",
    "Example:"
   ]
  },
  {
   "cell_type": "code",
   "execution_count": 28,
   "id": "a7cbe1b4-ddae-45b8-9f0c-141752e28182",
   "metadata": {},
   "outputs": [],
   "source": [
    "class class1:\n",
    "    def text1_class1(self):\n",
    "        print(\"This is class1\")"
   ]
  },
  {
   "cell_type": "code",
   "execution_count": 29,
   "id": "324275f9-9adb-4f7e-a24d-8ac7975e19df",
   "metadata": {},
   "outputs": [],
   "source": [
    "class class2(class1):\n",
    "    def text2_class2(self):\n",
    "        print(\"This is class2\")"
   ]
  },
  {
   "cell_type": "code",
   "execution_count": 32,
   "id": "fc4a82de-51b4-404e-85b3-5fc983a29850",
   "metadata": {},
   "outputs": [],
   "source": [
    "class class3(class2,class1):\n",
    "    def text3_class3(self):\n",
    "        pass"
   ]
  },
  {
   "cell_type": "code",
   "execution_count": 33,
   "id": "5dd72f48-e266-430c-b247-bb86ca817b22",
   "metadata": {},
   "outputs": [],
   "source": [
    "obj_class33=class3()"
   ]
  },
  {
   "cell_type": "code",
   "execution_count": 34,
   "id": "527f1dfd-57c5-410a-a9d7-50734b1ceac6",
   "metadata": {},
   "outputs": [
    {
     "name": "stdout",
     "output_type": "stream",
     "text": [
      "This is class1\n"
     ]
    }
   ],
   "source": [
    "obj_class33.text1_class1()"
   ]
  },
  {
   "cell_type": "code",
   "execution_count": 35,
   "id": "31372663-a8be-4123-b727-3e00218334ed",
   "metadata": {},
   "outputs": [
    {
     "name": "stdout",
     "output_type": "stream",
     "text": [
      "This is class2\n"
     ]
    }
   ],
   "source": [
    "obj_class33.text2_class2()"
   ]
  },
  {
   "cell_type": "code",
   "execution_count": null,
   "id": "2e4d0ddf-e9d7-4997-9381-8457ba2ed9d6",
   "metadata": {},
   "outputs": [],
   "source": []
  }
 ],
 "metadata": {
  "kernelspec": {
   "display_name": "Python 3 (ipykernel)",
   "language": "python",
   "name": "python3"
  },
  "language_info": {
   "codemirror_mode": {
    "name": "ipython",
    "version": 3
   },
   "file_extension": ".py",
   "mimetype": "text/x-python",
   "name": "python",
   "nbconvert_exporter": "python",
   "pygments_lexer": "ipython3",
   "version": "3.10.8"
  }
 },
 "nbformat": 4,
 "nbformat_minor": 5
}
